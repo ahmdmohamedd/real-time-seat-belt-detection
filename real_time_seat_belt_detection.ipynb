{
 "cells": [
  {
   "cell_type": "code",
   "execution_count": null,
   "id": "955148a0-bf23-4aea-a278-5c171e84f595",
   "metadata": {},
   "outputs": [],
   "source": [
    "import numpy as np\n",
    "import matplotlib.pyplot as plt\n",
    "import cv2\n",
    "import os\n",
    "from tensorflow.keras import datasets, layers, models\n",
    "from sklearn.model_selection import train_test_split"
   ]
  },
  {
   "cell_type": "code",
   "execution_count": null,
   "id": "e48432f6-877f-4473-a640-ccc25a6534fb",
   "metadata": {},
   "outputs": [],
   "source": [
    "def load_data(data_dir):\n",
    "    images = []\n",
    "    labels = []\n",
    "    \n",
    "    # Iterate over the dataset folder and read images\n",
    "    for folder_name in os.listdir(data_dir):\n",
    "        folder_path = os.path.join(data_dir, folder_name)\n",
    "        \n",
    "        if not os.path.isdir(folder_path):\n",
    "            continue\n",
    "        \n",
    "        label = 0 if folder_name == 'no_belt' else 1\n",
    "        for filename in os.listdir(folder_path):\n",
    "            image_path = os.path.join(folder_path, filename)\n",
    "            img = cv2.imread(image_path)\n",
    "            img = cv2.resize(img, (64, 64))  # Resize image to 64x64\n",
    "            images.append(img)\n",
    "            labels.append(label)\n",
    "    \n",
    "    images = np.array(images)\n",
    "    labels = np.array(labels)\n",
    "    return images, labels\n",
    "\n",
    "# Load the data (adjust path as needed)\n",
    "data_dir = \"path_to_seat_belt_data\"\n",
    "images, labels = load_data(data_dir)\n",
    "\n",
    "# Normalize the images\n",
    "images = images.astype(\"float32\") / 255.0"
   ]
  },
  {
   "cell_type": "code",
   "execution_count": null,
   "id": "0a8fb608-3868-4c13-88e5-a2da4cc7b8d5",
   "metadata": {},
   "outputs": [],
   "source": [
    "X_train, X_test, y_train, y_test = train_test_split(images, labels, test_size=0.2, random_state=42)\n",
    "\n",
    "# Check the shape of the data\n",
    "print(f\"Training data shape: {X_train.shape}, Test data shape: {X_test.shape}\")\n"
   ]
  },
  {
   "cell_type": "code",
   "execution_count": null,
   "id": "5cf4f6ed-3058-4e8d-877e-38d59b742eab",
   "metadata": {},
   "outputs": [],
   "source": [
    "model = models.Sequential([\n",
    "    layers.Conv2D(32, (3, 3), activation='relu', input_shape=(64, 64, 3)),\n",
    "    layers.MaxPooling2D((2, 2)),\n",
    "    layers.Conv2D(64, (3, 3), activation='relu'),\n",
    "    layers.MaxPooling2D((2, 2)),\n",
    "    layers.Conv2D(128, (3, 3), activation='relu'),\n",
    "    layers.MaxPooling2D((2, 2)),\n",
    "    layers.Flatten(),\n",
    "    layers.Dense(128, activation='relu'),\n",
    "    layers.Dense(1, activation='sigmoid')  # Binary classification: seat belt or not\n",
    "])\n",
    "\n",
    "model.compile(optimizer='adam', loss='binary_crossentropy', metrics=['accuracy'])\n",
    "\n",
    "model.summary()\n"
   ]
  },
  {
   "cell_type": "code",
   "execution_count": null,
   "id": "f45ea34b-4071-478c-8963-6340ff5d8d11",
   "metadata": {},
   "outputs": [],
   "source": [
    "history = model.fit(X_train, y_train, epochs=10, batch_size=32, validation_data=(X_test, y_test))\n"
   ]
  },
  {
   "cell_type": "code",
   "execution_count": null,
   "id": "90a9c087-af09-4cbf-8fc3-3f357ca035db",
   "metadata": {},
   "outputs": [],
   "source": [
    "test_loss, test_accuracy = model.evaluate(X_test, y_test)\n",
    "print(f\"Test Loss: {test_loss}, Test Accuracy: {test_accuracy}\")"
   ]
  },
  {
   "cell_type": "code",
   "execution_count": null,
   "id": "b3c7e585-be76-4c2c-a92b-4d9fb3e51615",
   "metadata": {},
   "outputs": [],
   "source": [
    "model.save('seat_belt_detection_model.h5')\n"
   ]
  },
  {
   "cell_type": "code",
   "execution_count": null,
   "id": "696e5944-c4e6-421c-a075-424682b6fa63",
   "metadata": {},
   "outputs": [],
   "source": [
    "# Real-time seat belt detection using OpenCV\n",
    "def detect_seat_belt(frame, model):\n",
    "    frame_resized = cv2.resize(frame, (64, 64))  # Resize to match input shape\n",
    "    frame_resized = frame_resized.astype(\"float32\") / 255.0  # Normalize\n",
    "    frame_resized = np.expand_dims(frame_resized, axis=0)  # Add batch dimension\n",
    "    \n",
    "    prediction = model.predict(frame_resized)\n",
    "    label = \"Seat Belt On\" if prediction[0] > 0.5 else \"No Seat Belt\"\n",
    "    \n",
    "    return label\n",
    "\n",
    "# Start video capture\n",
    "cap = cv2.VideoCapture(0)  # Use 0 for webcam\n",
    "\n",
    "while True:\n",
    "    ret, frame = cap.read()\n",
    "    if not ret:\n",
    "        break\n",
    "    \n",
    "    # Get prediction for seat belt\n",
    "    label = detect_seat_belt(frame, model)\n",
    "    \n",
    "    # Display result\n",
    "    cv2.putText(frame, label, (10, 30), cv2.FONT_HERSHEY_SIMPLEX, 1, (0, 255, 0), 2)\n",
    "    cv2.imshow('Seat Belt Detection', frame)\n",
    "    \n",
    "    if cv2.waitKey(1) & 0xFF == ord('q'):\n",
    "        break\n",
    "\n",
    "cap.release()\n",
    "cv2.destroyAllWindows()"
   ]
  }
 ],
 "metadata": {
  "kernelspec": {
   "display_name": "Python 3 (ipykernel)",
   "language": "python",
   "name": "python3"
  },
  "language_info": {
   "codemirror_mode": {
    "name": "ipython",
    "version": 3
   },
   "file_extension": ".py",
   "mimetype": "text/x-python",
   "name": "python",
   "nbconvert_exporter": "python",
   "pygments_lexer": "ipython3",
   "version": "3.9.18"
  }
 },
 "nbformat": 4,
 "nbformat_minor": 5
}
